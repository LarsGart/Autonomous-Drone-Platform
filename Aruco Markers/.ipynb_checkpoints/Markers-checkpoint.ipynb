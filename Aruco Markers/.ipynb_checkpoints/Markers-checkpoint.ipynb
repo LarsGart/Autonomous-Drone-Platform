{
 "cells": [
  {
   "cell_type": "code",
   "execution_count": 52,
   "id": "42282c07",
   "metadata": {},
   "outputs": [],
   "source": [
    "from imutils.video import VideoStream\n",
    "import argparse\n",
    "import imutils\n",
    "import time\n",
    "import cv2\n",
    "import sys"
   ]
  },
  {
   "cell_type": "code",
   "execution_count": 53,
   "id": "4623d3e1",
   "metadata": {},
   "outputs": [],
   "source": [
    "ARUCO_DICT = {\n",
    "\t\"DICT_4X4_50\": cv2.aruco.DICT_4X4_50,\n",
    "\t\"DICT_4X4_100\": cv2.aruco.DICT_4X4_100,\n",
    "\t\"DICT_4X4_250\": cv2.aruco.DICT_4X4_250,\n",
    "\t\"DICT_4X4_1000\": cv2.aruco.DICT_4X4_1000,\n",
    "\t\"DICT_5X5_50\": cv2.aruco.DICT_5X5_50,\n",
    "\t\"DICT_5X5_100\": cv2.aruco.DICT_5X5_100,\n",
    "\t\"DICT_5X5_250\": cv2.aruco.DICT_5X5_250,\n",
    "\t\"DICT_5X5_1000\": cv2.aruco.DICT_5X5_1000,\n",
    "\t\"DICT_6X6_50\": cv2.aruco.DICT_6X6_50,\n",
    "\t\"DICT_6X6_100\": cv2.aruco.DICT_6X6_100,\n",
    "\t\"DICT_6X6_250\": cv2.aruco.DICT_6X6_250,\n",
    "\t\"DICT_6X6_1000\": cv2.aruco.DICT_6X6_1000,\n",
    "\t\"DICT_7X7_50\": cv2.aruco.DICT_7X7_50,\n",
    "\t\"DICT_7X7_100\": cv2.aruco.DICT_7X7_100,\n",
    "\t\"DICT_7X7_250\": cv2.aruco.DICT_7X7_250,\n",
    "\t\"DICT_7X7_1000\": cv2.aruco.DICT_7X7_1000,\n",
    "\t\"DICT_ARUCO_ORIGINAL\": cv2.aruco.DICT_ARUCO_ORIGINAL,\n",
    "\t\"DICT_APRILTAG_16h5\": cv2.aruco.DICT_APRILTAG_16h5,\n",
    "\t\"DICT_APRILTAG_25h9\": cv2.aruco.DICT_APRILTAG_25h9,\n",
    "\t\"DICT_APRILTAG_36h10\": cv2.aruco.DICT_APRILTAG_36h10,\n",
    "\t\"DICT_APRILTAG_36h11\": cv2.aruco.DICT_APRILTAG_36h11\n",
    "}"
   ]
  },
  {
   "cell_type": "code",
   "execution_count": 54,
   "id": "9fc396cc",
   "metadata": {},
   "outputs": [],
   "source": [
    "arucoTag = 'DICT_ARUCO_ORIGINAL'"
   ]
  },
  {
   "cell_type": "code",
   "execution_count": 55,
   "id": "d4c12834",
   "metadata": {},
   "outputs": [
    {
     "name": "stdout",
     "output_type": "stream",
     "text": [
      "[INFO] detecting 'DICT_ARUCO_ORIGINAL' tags...\n",
      "[INFO] starting video stream...\n"
     ]
    }
   ],
   "source": [
    "# verify that the supplied ArUCo tag exists and is supported by\n",
    "# OpenCV\n",
    "if ARUCO_DICT.get(arucoTag, None) is None:\n",
    "    print(\"[INFO] ArUCo tag of '{}' is not supported\".format(arucoTag))\n",
    "    sys.exit(0)\n",
    "# load the ArUCo dictionary and grab the ArUCo parameters\n",
    "print(\"[INFO] detecting '{}' tags...\".format(arucoTag))\n",
    "arucoDict = cv2.aruco.Dictionary_get(ARUCO_DICT[arucoTag])\n",
    "arucoParams = cv2.aruco.DetectorParameters_create()\n",
    "# initialize the video stream and allow the camera sensor to warm up\n",
    "print(\"[INFO] starting video stream...\")\n",
    "vs = VideoStream(src=0).start()\n",
    "time.sleep(2.0)"
   ]
  },
  {
   "cell_type": "code",
   "execution_count": null,
   "id": "57067860",
   "metadata": {},
   "outputs": [],
   "source": [
    "# loop over the frames from the video stream\n",
    "while True:\n",
    "\t# grab the frame from the threaded video stream and resize it\n",
    "\t# to have a maximum width of 1000 pixels\n",
    "\tframe = vs.read()\n",
    "\tframe = imutils.resize(frame, width=1000)\n",
    "\t# detect ArUco markers in the input frame\n",
    "\t(corners, ids, rejected) = cv2.aruco.detectMarkers(frame,\n",
    "\t\tarucoDict, parameters=arucoParams)\n",
    "    \t# verify *at least* one ArUco marker was detected\n",
    "\tif len(corners) > 0:\n",
    "\t\t# flatten the ArUco IDs list\n",
    "\t\tids = ids.flatten()\n",
    "\t\t# loop over the detected ArUCo corners\n",
    "\t\tfor (markerCorner, markerID) in zip(corners, ids):\n",
    "\t\t\t# extract the marker corners (which are always returned\n",
    "\t\t\t# in top-left, top-right, bottom-right, and bottom-left\n",
    "\t\t\t# order)\n",
    "\t\t\tcorners = markerCorner.reshape((4, 2))\n",
    "\t\t\t(topLeft, topRight, bottomRight, bottomLeft) = corners\n",
    "\t\t\t# convert each of the (x, y)-coordinate pairs to integers\n",
    "\t\t\ttopRight = (int(topRight[0]), int(topRight[1]))\n",
    "\t\t\tbottomRight = (int(bottomRight[0]), int(bottomRight[1]))\n",
    "\t\t\tbottomLeft = (int(bottomLeft[0]), int(bottomLeft[1]))\n",
    "\t\t\ttopLeft = (int(topLeft[0]), int(topLeft[1]))\n",
    "            \t\t\t# draw the bounding box of the ArUCo detection\n",
    "\t\t\tcv2.line(frame, topLeft, topRight, (0, 255, 0), 2)\n",
    "\t\t\tcv2.line(frame, topRight, bottomRight, (0, 255, 0), 2)\n",
    "\t\t\tcv2.line(frame, bottomRight, bottomLeft, (0, 255, 0), 2)\n",
    "\t\t\tcv2.line(frame, bottomLeft, topLeft, (0, 255, 0), 2)\n",
    "\t\t\t# compute and draw the center (x, y)-coordinates of the\n",
    "\t\t\t# ArUco marker\n",
    "\t\t\tcX = int((topLeft[0] + bottomRight[0]) / 2.0)\n",
    "\t\t\tcY = int((topLeft[1] + bottomRight[1]) / 2.0)\n",
    "\t\t\tcv2.circle(frame, (cX, cY), 4, (0, 0, 255), -1)\n",
    "\t\t\t# draw the ArUco marker ID on the frame\n",
    "\t\t\tcv2.putText(frame, str(markerID),\n",
    "\t\t\t\t(topLeft[0], topLeft[1] - 15),\n",
    "\t\t\t\tcv2.FONT_HERSHEY_SIMPLEX,\n",
    "\t\t\t\t0.5, (0, 255, 0), 2)\n",
    "\t# show the output frame\n",
    "\tcv2.imshow(\"Frame\", frame)\n",
    "\tkey = cv2.waitKey(1) & 0xFF\n",
    "\t# if the `q` key was pressed, break from the loop\n",
    "\tif key == ord(\"q\"):\n",
    "\t\tbreak\n",
    "# do a bit of cleanup\n",
    "cv2.destroyAllWindows()\n",
    "vs.stop()"
   ]
  },
  {
   "cell_type": "code",
   "execution_count": null,
   "id": "f22a00f0",
   "metadata": {},
   "outputs": [],
   "source": []
  }
 ],
 "metadata": {
  "kernelspec": {
   "display_name": "Python 3 (ipykernel)",
   "language": "python",
   "name": "python3"
  },
  "language_info": {
   "codemirror_mode": {
    "name": "ipython",
    "version": 3
   },
   "file_extension": ".py",
   "mimetype": "text/x-python",
   "name": "python",
   "nbconvert_exporter": "python",
   "pygments_lexer": "ipython3",
   "version": "3.9.7"
  }
 },
 "nbformat": 4,
 "nbformat_minor": 5
}
